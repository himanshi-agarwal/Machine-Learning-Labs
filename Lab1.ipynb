{
 "cells": [
  {
   "cell_type": "markdown",
   "id": "f347e999-0fb3-4922-82c6-2d5df055e958",
   "metadata": {},
   "source": [
    "## Dataset Description - Depression Analysis"
   ]
  },
  {
   "cell_type": "markdown",
   "id": "35ef41e4-65cc-47da-8cdb-ed6abf0513eb",
   "metadata": {},
   "source": [
    "#### This dataset explores the relationship between various demographic, lifestyle, and health-related factors with depression. It includes data on individuals' age, marital status, number of children, smoking habits, physical activity levels, employment status, income, alcohol consumption, dietary habits, sleep patterns, history of mental illness, chronic medical conditions, and a depression indicator that highlights whether an individual is experiencing depression.\n",
    "\n",
    "#### The dataset consists of 599 rows and 13 columns, offering a diverse range of attributes for analysis.\n",
    "\n",
    "#### This comprehensive dataset is ideal for studying the correlation between lifestyle and health patterns and mental health outcomes, particularly depression. It can support predictive modeling and insights into factors influencing mental well-being.\n"
   ]
  },
  {
   "cell_type": "code",
   "execution_count": 26,
   "id": "66283627-9439-4d39-b3b3-ec044a5e9d44",
   "metadata": {},
   "outputs": [],
   "source": [
    "import pandas as pd\n",
    "import matplotlib.pyplot as plt\n",
    "import seaborn as sns\n",
    "import numpy as np"
   ]
  },
  {
   "cell_type": "code",
   "execution_count": 27,
   "id": "fc73f8c3-9e7d-4a24-bb4b-c78243e3ed0f",
   "metadata": {},
   "outputs": [
    {
     "data": {
      "text/html": [
       "<div>\n",
       "<style scoped>\n",
       "    .dataframe tbody tr th:only-of-type {\n",
       "        vertical-align: middle;\n",
       "    }\n",
       "\n",
       "    .dataframe tbody tr th {\n",
       "        vertical-align: top;\n",
       "    }\n",
       "\n",
       "    .dataframe thead th {\n",
       "        text-align: right;\n",
       "    }\n",
       "</style>\n",
       "<table border=\"1\" class=\"dataframe\">\n",
       "  <thead>\n",
       "    <tr style=\"text-align: right;\">\n",
       "      <th></th>\n",
       "      <th>Name</th>\n",
       "      <th>Age</th>\n",
       "      <th>Marital Status</th>\n",
       "      <th>Education Level</th>\n",
       "      <th>Number of Children</th>\n",
       "      <th>Smoking Status</th>\n",
       "      <th>Physical Activity Level</th>\n",
       "      <th>Employment Status</th>\n",
       "      <th>Income</th>\n",
       "      <th>Alcohol Consumption</th>\n",
       "      <th>Dietary Habits</th>\n",
       "      <th>Sleep Patterns</th>\n",
       "      <th>History of Mental Illness</th>\n",
       "      <th>History of Substance Abuse</th>\n",
       "      <th>Family History of Depression</th>\n",
       "      <th>Chronic Medical Conditions</th>\n",
       "      <th>Depression Indicator</th>\n",
       "    </tr>\n",
       "  </thead>\n",
       "  <tbody>\n",
       "    <tr>\n",
       "      <th>0</th>\n",
       "      <td>Crystal Brooks</td>\n",
       "      <td>64.0</td>\n",
       "      <td>Married</td>\n",
       "      <td>PhD</td>\n",
       "      <td>NaN</td>\n",
       "      <td>Non-smoker</td>\n",
       "      <td>Sedentary</td>\n",
       "      <td>Employed</td>\n",
       "      <td>112160.42</td>\n",
       "      <td>Low</td>\n",
       "      <td>Unhealthy</td>\n",
       "      <td>Fair</td>\n",
       "      <td>No</td>\n",
       "      <td>No</td>\n",
       "      <td>No</td>\n",
       "      <td>No</td>\n",
       "      <td>Yes</td>\n",
       "    </tr>\n",
       "    <tr>\n",
       "      <th>1</th>\n",
       "      <td>Roger Webster</td>\n",
       "      <td>77.0</td>\n",
       "      <td>Married</td>\n",
       "      <td>Bachelor's Degree</td>\n",
       "      <td>NaN</td>\n",
       "      <td>Non-smoker</td>\n",
       "      <td>Sedentary</td>\n",
       "      <td>Employed</td>\n",
       "      <td>62647.39</td>\n",
       "      <td>High</td>\n",
       "      <td>Unhealthy</td>\n",
       "      <td>Fair</td>\n",
       "      <td>No</td>\n",
       "      <td>No</td>\n",
       "      <td>No</td>\n",
       "      <td>Yes</td>\n",
       "      <td>Yes</td>\n",
       "    </tr>\n",
       "    <tr>\n",
       "      <th>2</th>\n",
       "      <td>Brian Smith</td>\n",
       "      <td>52.0</td>\n",
       "      <td>Married</td>\n",
       "      <td>High School</td>\n",
       "      <td>1.0</td>\n",
       "      <td>Non-smoker</td>\n",
       "      <td>Moderate</td>\n",
       "      <td>Employed</td>\n",
       "      <td>26084.99</td>\n",
       "      <td>Moderate</td>\n",
       "      <td>Unhealthy</td>\n",
       "      <td>Poor</td>\n",
       "      <td>No</td>\n",
       "      <td>Yes</td>\n",
       "      <td>Yes</td>\n",
       "      <td>No</td>\n",
       "      <td>No</td>\n",
       "    </tr>\n",
       "    <tr>\n",
       "      <th>3</th>\n",
       "      <td>Michelle Morrow</td>\n",
       "      <td>29.0</td>\n",
       "      <td>Single</td>\n",
       "      <td>Associate Degree</td>\n",
       "      <td>0.0</td>\n",
       "      <td>Non-smoker</td>\n",
       "      <td>Sedentary</td>\n",
       "      <td>Unemployed</td>\n",
       "      <td>1153.86</td>\n",
       "      <td>Low</td>\n",
       "      <td>Unhealthy</td>\n",
       "      <td>Poor</td>\n",
       "      <td>No</td>\n",
       "      <td>Yes</td>\n",
       "      <td>No</td>\n",
       "      <td>No</td>\n",
       "      <td>Yes</td>\n",
       "    </tr>\n",
       "    <tr>\n",
       "      <th>4</th>\n",
       "      <td>Erin Russell</td>\n",
       "      <td>NaN</td>\n",
       "      <td>Widowed</td>\n",
       "      <td>Master's Degree</td>\n",
       "      <td>3.0</td>\n",
       "      <td>Non-smoker</td>\n",
       "      <td>Sedentary</td>\n",
       "      <td>Unemployed</td>\n",
       "      <td>16474.33</td>\n",
       "      <td>High</td>\n",
       "      <td>Moderate</td>\n",
       "      <td>Poor</td>\n",
       "      <td>No</td>\n",
       "      <td>No</td>\n",
       "      <td>No</td>\n",
       "      <td>Yes</td>\n",
       "      <td>Yes</td>\n",
       "    </tr>\n",
       "  </tbody>\n",
       "</table>\n",
       "</div>"
      ],
      "text/plain": [
       "              Name   Age Marital Status    Education Level  \\\n",
       "0   Crystal Brooks  64.0        Married                PhD   \n",
       "1    Roger Webster  77.0        Married  Bachelor's Degree   \n",
       "2      Brian Smith  52.0        Married        High School   \n",
       "3  Michelle Morrow  29.0         Single   Associate Degree   \n",
       "4     Erin Russell   NaN        Widowed    Master's Degree   \n",
       "\n",
       "   Number of Children Smoking Status Physical Activity Level  \\\n",
       "0                 NaN     Non-smoker               Sedentary   \n",
       "1                 NaN     Non-smoker               Sedentary   \n",
       "2                 1.0     Non-smoker                Moderate   \n",
       "3                 0.0     Non-smoker               Sedentary   \n",
       "4                 3.0     Non-smoker               Sedentary   \n",
       "\n",
       "  Employment Status     Income Alcohol Consumption Dietary Habits  \\\n",
       "0          Employed  112160.42                 Low      Unhealthy   \n",
       "1          Employed   62647.39                High      Unhealthy   \n",
       "2          Employed   26084.99            Moderate      Unhealthy   \n",
       "3        Unemployed    1153.86                 Low      Unhealthy   \n",
       "4        Unemployed   16474.33                High       Moderate   \n",
       "\n",
       "  Sleep Patterns History of Mental Illness History of Substance Abuse  \\\n",
       "0           Fair                        No                         No   \n",
       "1           Fair                        No                         No   \n",
       "2           Poor                        No                        Yes   \n",
       "3           Poor                        No                        Yes   \n",
       "4           Poor                        No                         No   \n",
       "\n",
       "  Family History of Depression Chronic Medical Conditions Depression Indicator  \n",
       "0                           No                         No                  Yes  \n",
       "1                           No                        Yes                  Yes  \n",
       "2                          Yes                         No                   No  \n",
       "3                           No                         No                  Yes  \n",
       "4                           No                        Yes                  Yes  "
      ]
     },
     "execution_count": 27,
     "metadata": {},
     "output_type": "execute_result"
    }
   ],
   "source": [
    "df = pd.read_csv(\"C:/Users/Himanshi Agarwal/OneDrive/Desktop/sem6/ML/depression.csv\")\n",
    "df.head(5)"
   ]
  },
  {
   "cell_type": "code",
   "execution_count": 28,
   "id": "de79d4c5-83f5-4575-a908-71f8e3060a06",
   "metadata": {},
   "outputs": [
    {
     "data": {
      "text/html": [
       "<div>\n",
       "<style scoped>\n",
       "    .dataframe tbody tr th:only-of-type {\n",
       "        vertical-align: middle;\n",
       "    }\n",
       "\n",
       "    .dataframe tbody tr th {\n",
       "        vertical-align: top;\n",
       "    }\n",
       "\n",
       "    .dataframe thead th {\n",
       "        text-align: right;\n",
       "    }\n",
       "</style>\n",
       "<table border=\"1\" class=\"dataframe\">\n",
       "  <thead>\n",
       "    <tr style=\"text-align: right;\">\n",
       "      <th></th>\n",
       "      <th>Name</th>\n",
       "      <th>Age</th>\n",
       "      <th>Marital Status</th>\n",
       "      <th>Education Level</th>\n",
       "      <th>Number of Children</th>\n",
       "      <th>Smoking Status</th>\n",
       "      <th>Physical Activity Level</th>\n",
       "      <th>Employment Status</th>\n",
       "      <th>Income</th>\n",
       "      <th>Alcohol Consumption</th>\n",
       "      <th>Dietary Habits</th>\n",
       "      <th>Sleep Patterns</th>\n",
       "      <th>History of Mental Illness</th>\n",
       "      <th>History of Substance Abuse</th>\n",
       "      <th>Family History of Depression</th>\n",
       "      <th>Chronic Medical Conditions</th>\n",
       "      <th>Depression Indicator</th>\n",
       "    </tr>\n",
       "  </thead>\n",
       "  <tbody>\n",
       "    <tr>\n",
       "      <th>594</th>\n",
       "      <td>Angela Jensen</td>\n",
       "      <td>57.0</td>\n",
       "      <td>Widowed</td>\n",
       "      <td>High School</td>\n",
       "      <td>1.0</td>\n",
       "      <td>Non-smoker</td>\n",
       "      <td>Active</td>\n",
       "      <td>Employed</td>\n",
       "      <td>28636.81</td>\n",
       "      <td>Moderate</td>\n",
       "      <td>Moderate</td>\n",
       "      <td>Good</td>\n",
       "      <td>Yes</td>\n",
       "      <td>No</td>\n",
       "      <td>Yes</td>\n",
       "      <td>No</td>\n",
       "      <td>No</td>\n",
       "    </tr>\n",
       "    <tr>\n",
       "      <th>595</th>\n",
       "      <td>Michael Humphrey</td>\n",
       "      <td>NaN</td>\n",
       "      <td>Married</td>\n",
       "      <td>PhD</td>\n",
       "      <td>3.0</td>\n",
       "      <td>Former</td>\n",
       "      <td>Sedentary</td>\n",
       "      <td>Unemployed</td>\n",
       "      <td>28892.94</td>\n",
       "      <td>Low</td>\n",
       "      <td>Moderate</td>\n",
       "      <td>Fair</td>\n",
       "      <td>No</td>\n",
       "      <td>No</td>\n",
       "      <td>No</td>\n",
       "      <td>No</td>\n",
       "      <td>No</td>\n",
       "    </tr>\n",
       "    <tr>\n",
       "      <th>596</th>\n",
       "      <td>Christopher Rivas</td>\n",
       "      <td>NaN</td>\n",
       "      <td>Married</td>\n",
       "      <td>High School</td>\n",
       "      <td>0.0</td>\n",
       "      <td>Non-smoker</td>\n",
       "      <td>Moderate</td>\n",
       "      <td>Employed</td>\n",
       "      <td>41790.26</td>\n",
       "      <td>Low</td>\n",
       "      <td>Unhealthy</td>\n",
       "      <td>Good</td>\n",
       "      <td>No</td>\n",
       "      <td>No</td>\n",
       "      <td>No</td>\n",
       "      <td>No</td>\n",
       "      <td>No</td>\n",
       "    </tr>\n",
       "    <tr>\n",
       "      <th>597</th>\n",
       "      <td>Shelby Bailey</td>\n",
       "      <td>NaN</td>\n",
       "      <td>Married</td>\n",
       "      <td>Associate Degree</td>\n",
       "      <td>2.0</td>\n",
       "      <td>Non-smoker</td>\n",
       "      <td>Sedentary</td>\n",
       "      <td>Unemployed</td>\n",
       "      <td>847.62</td>\n",
       "      <td>Moderate</td>\n",
       "      <td>Unhealthy</td>\n",
       "      <td>Poor</td>\n",
       "      <td>No</td>\n",
       "      <td>No</td>\n",
       "      <td>No</td>\n",
       "      <td>No</td>\n",
       "      <td>Yes</td>\n",
       "    </tr>\n",
       "    <tr>\n",
       "      <th>598</th>\n",
       "      <td>Andrew Brandt</td>\n",
       "      <td>NaN</td>\n",
       "      <td>Married</td>\n",
       "      <td>Associate Degree</td>\n",
       "      <td>1.0</td>\n",
       "      <td>Non-smoker</td>\n",
       "      <td>Moderate</td>\n",
       "      <td>Employed</td>\n",
       "      <td>40259.46</td>\n",
       "      <td>Moderate</td>\n",
       "      <td>Moderate</td>\n",
       "      <td>Fair</td>\n",
       "      <td>Yes</td>\n",
       "      <td>No</td>\n",
       "      <td>No</td>\n",
       "      <td>No</td>\n",
       "      <td>Yes</td>\n",
       "    </tr>\n",
       "  </tbody>\n",
       "</table>\n",
       "</div>"
      ],
      "text/plain": [
       "                  Name   Age Marital Status   Education Level  \\\n",
       "594      Angela Jensen  57.0        Widowed       High School   \n",
       "595   Michael Humphrey   NaN        Married               PhD   \n",
       "596  Christopher Rivas   NaN        Married       High School   \n",
       "597      Shelby Bailey   NaN        Married  Associate Degree   \n",
       "598      Andrew Brandt   NaN        Married  Associate Degree   \n",
       "\n",
       "     Number of Children Smoking Status Physical Activity Level  \\\n",
       "594                 1.0     Non-smoker                  Active   \n",
       "595                 3.0         Former               Sedentary   \n",
       "596                 0.0     Non-smoker                Moderate   \n",
       "597                 2.0     Non-smoker               Sedentary   \n",
       "598                 1.0     Non-smoker                Moderate   \n",
       "\n",
       "    Employment Status    Income Alcohol Consumption Dietary Habits  \\\n",
       "594          Employed  28636.81            Moderate       Moderate   \n",
       "595        Unemployed  28892.94                 Low       Moderate   \n",
       "596          Employed  41790.26                 Low      Unhealthy   \n",
       "597        Unemployed    847.62            Moderate      Unhealthy   \n",
       "598          Employed  40259.46            Moderate       Moderate   \n",
       "\n",
       "    Sleep Patterns History of Mental Illness History of Substance Abuse  \\\n",
       "594           Good                       Yes                         No   \n",
       "595           Fair                        No                         No   \n",
       "596           Good                        No                         No   \n",
       "597           Poor                        No                         No   \n",
       "598           Fair                       Yes                         No   \n",
       "\n",
       "    Family History of Depression Chronic Medical Conditions  \\\n",
       "594                          Yes                         No   \n",
       "595                           No                         No   \n",
       "596                           No                         No   \n",
       "597                           No                         No   \n",
       "598                           No                         No   \n",
       "\n",
       "    Depression Indicator  \n",
       "594                   No  \n",
       "595                   No  \n",
       "596                   No  \n",
       "597                  Yes  \n",
       "598                  Yes  "
      ]
     },
     "execution_count": 28,
     "metadata": {},
     "output_type": "execute_result"
    }
   ],
   "source": [
    "df.tail(5)"
   ]
  },
  {
   "cell_type": "markdown",
   "id": "5ac70e31-12ff-440f-87d6-075b0a55f5fe",
   "metadata": {},
   "source": [
    "## Exploring the Data Types of the dataset and various field Attributes and Column Types"
   ]
  },
  {
   "cell_type": "code",
   "execution_count": 29,
   "id": "65c57e0a-3208-487b-92d6-a3b2bf0cfbda",
   "metadata": {},
   "outputs": [
    {
     "data": {
      "text/html": [
       "<div>\n",
       "<style scoped>\n",
       "    .dataframe tbody tr th:only-of-type {\n",
       "        vertical-align: middle;\n",
       "    }\n",
       "\n",
       "    .dataframe tbody tr th {\n",
       "        vertical-align: top;\n",
       "    }\n",
       "\n",
       "    .dataframe thead th {\n",
       "        text-align: right;\n",
       "    }\n",
       "</style>\n",
       "<table border=\"1\" class=\"dataframe\">\n",
       "  <thead>\n",
       "    <tr style=\"text-align: right;\">\n",
       "      <th></th>\n",
       "      <th>Age</th>\n",
       "      <th>Number of Children</th>\n",
       "      <th>Income</th>\n",
       "    </tr>\n",
       "  </thead>\n",
       "  <tbody>\n",
       "    <tr>\n",
       "      <th>count</th>\n",
       "      <td>523.000000</td>\n",
       "      <td>580.000000</td>\n",
       "      <td>593.000000</td>\n",
       "    </tr>\n",
       "    <tr>\n",
       "      <th>mean</th>\n",
       "      <td>48.910134</td>\n",
       "      <td>1.256897</td>\n",
       "      <td>51553.024047</td>\n",
       "    </tr>\n",
       "    <tr>\n",
       "      <th>std</th>\n",
       "      <td>17.678091</td>\n",
       "      <td>1.207863</td>\n",
       "      <td>40311.921648</td>\n",
       "    </tr>\n",
       "    <tr>\n",
       "      <th>min</th>\n",
       "      <td>18.000000</td>\n",
       "      <td>0.000000</td>\n",
       "      <td>12.200000</td>\n",
       "    </tr>\n",
       "    <tr>\n",
       "      <th>25%</th>\n",
       "      <td>35.000000</td>\n",
       "      <td>0.000000</td>\n",
       "      <td>22692.570000</td>\n",
       "    </tr>\n",
       "    <tr>\n",
       "      <th>50%</th>\n",
       "      <td>49.000000</td>\n",
       "      <td>1.000000</td>\n",
       "      <td>40257.610000</td>\n",
       "    </tr>\n",
       "    <tr>\n",
       "      <th>75%</th>\n",
       "      <td>65.000000</td>\n",
       "      <td>2.000000</td>\n",
       "      <td>76121.230000</td>\n",
       "    </tr>\n",
       "    <tr>\n",
       "      <th>max</th>\n",
       "      <td>80.000000</td>\n",
       "      <td>4.000000</td>\n",
       "      <td>205580.460000</td>\n",
       "    </tr>\n",
       "  </tbody>\n",
       "</table>\n",
       "</div>"
      ],
      "text/plain": [
       "              Age  Number of Children         Income\n",
       "count  523.000000          580.000000     593.000000\n",
       "mean    48.910134            1.256897   51553.024047\n",
       "std     17.678091            1.207863   40311.921648\n",
       "min     18.000000            0.000000      12.200000\n",
       "25%     35.000000            0.000000   22692.570000\n",
       "50%     49.000000            1.000000   40257.610000\n",
       "75%     65.000000            2.000000   76121.230000\n",
       "max     80.000000            4.000000  205580.460000"
      ]
     },
     "execution_count": 29,
     "metadata": {},
     "output_type": "execute_result"
    }
   ],
   "source": [
    "df.describe()"
   ]
  },
  {
   "cell_type": "code",
   "execution_count": 30,
   "id": "bc00b937-e7ff-440c-84b7-13b0247e86c3",
   "metadata": {},
   "outputs": [
    {
     "data": {
      "text/plain": [
       "Name                             object\n",
       "Age                             float64\n",
       "Marital Status                   object\n",
       "Education Level                  object\n",
       "Number of Children              float64\n",
       "Smoking Status                   object\n",
       "Physical Activity Level          object\n",
       "Employment Status                object\n",
       "Income                          float64\n",
       "Alcohol Consumption              object\n",
       "Dietary Habits                   object\n",
       "Sleep Patterns                   object\n",
       "History of Mental Illness        object\n",
       "History of Substance Abuse       object\n",
       "Family History of Depression     object\n",
       "Chronic Medical Conditions       object\n",
       "Depression Indicator             object\n",
       "dtype: object"
      ]
     },
     "execution_count": 30,
     "metadata": {},
     "output_type": "execute_result"
    }
   ],
   "source": [
    "df.dtypes"
   ]
  },
  {
   "cell_type": "code",
   "execution_count": 31,
   "id": "a4e244d3-6692-4ca8-9042-ff2df9103a9b",
   "metadata": {},
   "outputs": [
    {
     "name": "stdout",
     "output_type": "stream",
     "text": [
      "<class 'pandas.core.frame.DataFrame'>\n",
      "RangeIndex: 599 entries, 0 to 598\n",
      "Data columns (total 17 columns):\n",
      " #   Column                        Non-Null Count  Dtype  \n",
      "---  ------                        --------------  -----  \n",
      " 0   Name                          599 non-null    object \n",
      " 1   Age                           523 non-null    float64\n",
      " 2   Marital Status                599 non-null    object \n",
      " 3   Education Level               599 non-null    object \n",
      " 4   Number of Children            580 non-null    float64\n",
      " 5   Smoking Status                599 non-null    object \n",
      " 6   Physical Activity Level       599 non-null    object \n",
      " 7   Employment Status             599 non-null    object \n",
      " 8   Income                        593 non-null    float64\n",
      " 9   Alcohol Consumption           599 non-null    object \n",
      " 10  Dietary Habits                599 non-null    object \n",
      " 11  Sleep Patterns                599 non-null    object \n",
      " 12  History of Mental Illness     599 non-null    object \n",
      " 13  History of Substance Abuse    599 non-null    object \n",
      " 14  Family History of Depression  599 non-null    object \n",
      " 15  Chronic Medical Conditions    599 non-null    object \n",
      " 16  Depression Indicator          599 non-null    object \n",
      "dtypes: float64(3), object(14)\n",
      "memory usage: 79.7+ KB\n"
     ]
    }
   ],
   "source": [
    "df.info()"
   ]
  },
  {
   "cell_type": "markdown",
   "id": "d073050b-39c5-48ff-9259-d3ae550397f5",
   "metadata": {},
   "source": [
    "## Removing Irrelevant Columns\n",
    "\n",
    "### Dropped 'Name' column from the dataset as it is unnecessary for analysis."
   ]
  },
  {
   "cell_type": "code",
   "execution_count": 32,
   "id": "d19b0bb7-0875-41ed-bb0c-43933bf9387a",
   "metadata": {},
   "outputs": [
    {
     "data": {
      "text/html": [
       "<div>\n",
       "<style scoped>\n",
       "    .dataframe tbody tr th:only-of-type {\n",
       "        vertical-align: middle;\n",
       "    }\n",
       "\n",
       "    .dataframe tbody tr th {\n",
       "        vertical-align: top;\n",
       "    }\n",
       "\n",
       "    .dataframe thead th {\n",
       "        text-align: right;\n",
       "    }\n",
       "</style>\n",
       "<table border=\"1\" class=\"dataframe\">\n",
       "  <thead>\n",
       "    <tr style=\"text-align: right;\">\n",
       "      <th></th>\n",
       "      <th>Age</th>\n",
       "      <th>Marital Status</th>\n",
       "      <th>Education Level</th>\n",
       "      <th>Number of Children</th>\n",
       "      <th>Smoking Status</th>\n",
       "      <th>Physical Activity Level</th>\n",
       "      <th>Employment Status</th>\n",
       "      <th>Income</th>\n",
       "      <th>Alcohol Consumption</th>\n",
       "      <th>Dietary Habits</th>\n",
       "      <th>Sleep Patterns</th>\n",
       "      <th>History of Mental Illness</th>\n",
       "      <th>History of Substance Abuse</th>\n",
       "      <th>Family History of Depression</th>\n",
       "      <th>Chronic Medical Conditions</th>\n",
       "      <th>Depression Indicator</th>\n",
       "    </tr>\n",
       "  </thead>\n",
       "  <tbody>\n",
       "    <tr>\n",
       "      <th>0</th>\n",
       "      <td>64.0</td>\n",
       "      <td>Married</td>\n",
       "      <td>PhD</td>\n",
       "      <td>NaN</td>\n",
       "      <td>Non-smoker</td>\n",
       "      <td>Sedentary</td>\n",
       "      <td>Employed</td>\n",
       "      <td>112160.42</td>\n",
       "      <td>Low</td>\n",
       "      <td>Unhealthy</td>\n",
       "      <td>Fair</td>\n",
       "      <td>No</td>\n",
       "      <td>No</td>\n",
       "      <td>No</td>\n",
       "      <td>No</td>\n",
       "      <td>Yes</td>\n",
       "    </tr>\n",
       "    <tr>\n",
       "      <th>1</th>\n",
       "      <td>77.0</td>\n",
       "      <td>Married</td>\n",
       "      <td>Bachelor's Degree</td>\n",
       "      <td>NaN</td>\n",
       "      <td>Non-smoker</td>\n",
       "      <td>Sedentary</td>\n",
       "      <td>Employed</td>\n",
       "      <td>62647.39</td>\n",
       "      <td>High</td>\n",
       "      <td>Unhealthy</td>\n",
       "      <td>Fair</td>\n",
       "      <td>No</td>\n",
       "      <td>No</td>\n",
       "      <td>No</td>\n",
       "      <td>Yes</td>\n",
       "      <td>Yes</td>\n",
       "    </tr>\n",
       "    <tr>\n",
       "      <th>2</th>\n",
       "      <td>52.0</td>\n",
       "      <td>Married</td>\n",
       "      <td>High School</td>\n",
       "      <td>1.0</td>\n",
       "      <td>Non-smoker</td>\n",
       "      <td>Moderate</td>\n",
       "      <td>Employed</td>\n",
       "      <td>26084.99</td>\n",
       "      <td>Moderate</td>\n",
       "      <td>Unhealthy</td>\n",
       "      <td>Poor</td>\n",
       "      <td>No</td>\n",
       "      <td>Yes</td>\n",
       "      <td>Yes</td>\n",
       "      <td>No</td>\n",
       "      <td>No</td>\n",
       "    </tr>\n",
       "    <tr>\n",
       "      <th>3</th>\n",
       "      <td>29.0</td>\n",
       "      <td>Single</td>\n",
       "      <td>Associate Degree</td>\n",
       "      <td>0.0</td>\n",
       "      <td>Non-smoker</td>\n",
       "      <td>Sedentary</td>\n",
       "      <td>Unemployed</td>\n",
       "      <td>1153.86</td>\n",
       "      <td>Low</td>\n",
       "      <td>Unhealthy</td>\n",
       "      <td>Poor</td>\n",
       "      <td>No</td>\n",
       "      <td>Yes</td>\n",
       "      <td>No</td>\n",
       "      <td>No</td>\n",
       "      <td>Yes</td>\n",
       "    </tr>\n",
       "    <tr>\n",
       "      <th>4</th>\n",
       "      <td>NaN</td>\n",
       "      <td>Widowed</td>\n",
       "      <td>Master's Degree</td>\n",
       "      <td>3.0</td>\n",
       "      <td>Non-smoker</td>\n",
       "      <td>Sedentary</td>\n",
       "      <td>Unemployed</td>\n",
       "      <td>16474.33</td>\n",
       "      <td>High</td>\n",
       "      <td>Moderate</td>\n",
       "      <td>Poor</td>\n",
       "      <td>No</td>\n",
       "      <td>No</td>\n",
       "      <td>No</td>\n",
       "      <td>Yes</td>\n",
       "      <td>Yes</td>\n",
       "    </tr>\n",
       "  </tbody>\n",
       "</table>\n",
       "</div>"
      ],
      "text/plain": [
       "    Age Marital Status    Education Level  Number of Children Smoking Status  \\\n",
       "0  64.0        Married                PhD                 NaN     Non-smoker   \n",
       "1  77.0        Married  Bachelor's Degree                 NaN     Non-smoker   \n",
       "2  52.0        Married        High School                 1.0     Non-smoker   \n",
       "3  29.0         Single   Associate Degree                 0.0     Non-smoker   \n",
       "4   NaN        Widowed    Master's Degree                 3.0     Non-smoker   \n",
       "\n",
       "  Physical Activity Level Employment Status     Income Alcohol Consumption  \\\n",
       "0               Sedentary          Employed  112160.42                 Low   \n",
       "1               Sedentary          Employed   62647.39                High   \n",
       "2                Moderate          Employed   26084.99            Moderate   \n",
       "3               Sedentary        Unemployed    1153.86                 Low   \n",
       "4               Sedentary        Unemployed   16474.33                High   \n",
       "\n",
       "  Dietary Habits Sleep Patterns History of Mental Illness  \\\n",
       "0      Unhealthy           Fair                        No   \n",
       "1      Unhealthy           Fair                        No   \n",
       "2      Unhealthy           Poor                        No   \n",
       "3      Unhealthy           Poor                        No   \n",
       "4       Moderate           Poor                        No   \n",
       "\n",
       "  History of Substance Abuse Family History of Depression  \\\n",
       "0                         No                           No   \n",
       "1                         No                           No   \n",
       "2                        Yes                          Yes   \n",
       "3                        Yes                           No   \n",
       "4                         No                           No   \n",
       "\n",
       "  Chronic Medical Conditions Depression Indicator  \n",
       "0                         No                  Yes  \n",
       "1                        Yes                  Yes  \n",
       "2                         No                   No  \n",
       "3                         No                  Yes  \n",
       "4                        Yes                  Yes  "
      ]
     },
     "execution_count": 32,
     "metadata": {},
     "output_type": "execute_result"
    }
   ],
   "source": [
    "df = df.drop([\"Name\"], axis=1)\n",
    "df.head()"
   ]
  },
  {
   "cell_type": "markdown",
   "id": "c48708d4-b97f-4ee6-9c7e-2035d26aa52b",
   "metadata": {},
   "source": [
    "## Checking for any duplicate rows in dataset and removing them if there are any"
   ]
  },
  {
   "cell_type": "code",
   "execution_count": 33,
   "id": "8bd8c0f2-55a4-49e9-9efb-f70f8b989005",
   "metadata": {},
   "outputs": [
    {
     "name": "stdout",
     "output_type": "stream",
     "text": [
      "Rows and Column in Dataset are :  (599, 16)\n"
     ]
    }
   ],
   "source": [
    "print(\"Rows and Column in Dataset are : \" , df.shape)"
   ]
  },
  {
   "cell_type": "code",
   "execution_count": 34,
   "id": "7ab23555-1a28-4c20-81f3-335d3080037e",
   "metadata": {},
   "outputs": [
    {
     "name": "stdout",
     "output_type": "stream",
     "text": [
      "Number of Duplicate rows :  (0, 16)\n"
     ]
    }
   ],
   "source": [
    "duplicate = df[df.duplicated()]\n",
    "print(\"Number of Duplicate rows : \", duplicate.shape)"
   ]
  },
  {
   "cell_type": "markdown",
   "id": "27b4e71f-72e6-428e-a3d2-5312415cc8b8",
   "metadata": {},
   "source": [
    "## Checking for Null values in Dataset and Removing it"
   ]
  },
  {
   "cell_type": "code",
   "execution_count": 35,
   "id": "9391efb1-e929-46eb-adc1-5591642b05d9",
   "metadata": {},
   "outputs": [
    {
     "name": "stdout",
     "output_type": "stream",
     "text": [
      "Age                             76\n",
      "Marital Status                   0\n",
      "Education Level                  0\n",
      "Number of Children              19\n",
      "Smoking Status                   0\n",
      "Physical Activity Level          0\n",
      "Employment Status                0\n",
      "Income                           6\n",
      "Alcohol Consumption              0\n",
      "Dietary Habits                   0\n",
      "Sleep Patterns                   0\n",
      "History of Mental Illness        0\n",
      "History of Substance Abuse       0\n",
      "Family History of Depression     0\n",
      "Chronic Medical Conditions       0\n",
      "Depression Indicator             0\n",
      "dtype: int64\n"
     ]
    }
   ],
   "source": [
    "print(df.isnull().sum())"
   ]
  },
  {
   "cell_type": "code",
   "execution_count": 36,
   "id": "18b64a33-8011-44ee-ba32-8db4c8d82916",
   "metadata": {},
   "outputs": [
    {
     "data": {
      "text/plain": [
       "Age                             501\n",
       "Marital Status                  501\n",
       "Education Level                 501\n",
       "Number of Children              501\n",
       "Smoking Status                  501\n",
       "Physical Activity Level         501\n",
       "Employment Status               501\n",
       "Income                          501\n",
       "Alcohol Consumption             501\n",
       "Dietary Habits                  501\n",
       "Sleep Patterns                  501\n",
       "History of Mental Illness       501\n",
       "History of Substance Abuse      501\n",
       "Family History of Depression    501\n",
       "Chronic Medical Conditions      501\n",
       "Depression Indicator            501\n",
       "dtype: int64"
      ]
     },
     "execution_count": 36,
     "metadata": {},
     "output_type": "execute_result"
    }
   ],
   "source": [
    "df = df.dropna()\n",
    "df.count()"
   ]
  },
  {
   "cell_type": "code",
   "execution_count": 37,
   "id": "2143a85e-813c-48d3-98a4-cd255fe3fe66",
   "metadata": {},
   "outputs": [
    {
     "name": "stdout",
     "output_type": "stream",
     "text": [
      "Age                             0\n",
      "Marital Status                  0\n",
      "Education Level                 0\n",
      "Number of Children              0\n",
      "Smoking Status                  0\n",
      "Physical Activity Level         0\n",
      "Employment Status               0\n",
      "Income                          0\n",
      "Alcohol Consumption             0\n",
      "Dietary Habits                  0\n",
      "Sleep Patterns                  0\n",
      "History of Mental Illness       0\n",
      "History of Substance Abuse      0\n",
      "Family History of Depression    0\n",
      "Chronic Medical Conditions      0\n",
      "Depression Indicator            0\n",
      "dtype: int64\n"
     ]
    }
   ],
   "source": [
    "print(df.isnull().sum())"
   ]
  },
  {
   "cell_type": "markdown",
   "id": "46821db0-c0b7-4c1f-8b8c-ce593ed67247",
   "metadata": {},
   "source": [
    "## Detecting Outliers in Dataset"
   ]
  },
  {
   "cell_type": "code",
   "execution_count": 38,
   "id": "612a2767-0870-4287-bebf-bcfdf33e9298",
   "metadata": {},
   "outputs": [
    {
     "data": {
      "text/plain": [
       "<Axes: xlabel='Income'>"
      ]
     },
     "execution_count": 38,
     "metadata": {},
     "output_type": "execute_result"
    },
    {
     "data": {
      "image/png": "[encoded data removed]",
      "text/plain": [
       "<Figure size 640x480 with 1 Axes>"
      ]
     },
     "metadata": {},
     "output_type": "display_data"
    }
   ],
   "source": [
    "sns.boxplot(x=df['Income'])"
   ]
  },
  {
   "cell_type": "markdown",
   "id": "af6f4bde-1968-4a01-9264-3b9b10014684",
   "metadata": {},
   "source": [
    "### Interpretation: There are many outliers in 'Income' column."
   ]
  },
  {
   "cell_type": "code",
   "execution_count": 39,
   "id": "46b2d766",
   "metadata": {},
   "outputs": [
    {
     "data": {
      "text/plain": [
       "(501, 16)"
      ]
     },
     "execution_count": 39,
     "metadata": {},
     "output_type": "execute_result"
    }
   ],
   "source": [
    "df.shape # Number of rows before removing outliers"
   ]
  },
  {
   "cell_type": "code",
   "execution_count": 40,
   "id": "3b08bdc9",
   "metadata": {},
   "outputs": [],
   "source": [
    "def remove_outliers(df, column):\n",
    "    Q1 = df[column].quantile(0.25)\n",
    "    Q3 = df[column].quantile(0.75)  \n",
    "    IQR = Q3 - Q1  \n",
    "    lower_bound = Q1 - 1.5 * IQR\n",
    "    upper_bound = Q3 + 1.5 * IQR\n",
    "    return df[(df[column] >= lower_bound) & (df[column] <= upper_bound)]"
   ]
  },
  {
   "cell_type": "code",
   "execution_count": 41,
   "id": "e25441de",
   "metadata": {},
   "outputs": [],
   "source": [
    "for col in df.columns:\n",
    "    if(col==\"Age\" or col==\"Number of Children\" or col==\"Income\"):\n",
    "        df = remove_outliers(df, col)\n",
    "        "
   ]
  },
  {
   "cell_type": "markdown",
   "id": "7e1915d3",
   "metadata": {},
   "source": [
    "### All outliers from all the columns has been removed."
   ]
  },
  {
   "cell_type": "code",
   "execution_count": 42,
   "id": "b071f6d1",
   "metadata": {},
   "outputs": [
    {
     "data": {
      "text/plain": [
       "(496, 16)"
      ]
     },
     "execution_count": 42,
     "metadata": {},
     "output_type": "execute_result"
    }
   ],
   "source": [
    "df.shape  # Number of rows after removing outliers"
   ]
  },
  {
   "cell_type": "markdown",
   "id": "d273c456-2f10-476e-ac0c-085704e9eda1",
   "metadata": {},
   "source": [
    "## Plotting the Dataset"
   ]
  },
  {
   "cell_type": "markdown",
   "id": "6cb54951-695e-4e0e-bef3-8d09d0ccabee",
   "metadata": {},
   "source": [
    "### Histogram"
   ]
  },
  {
   "cell_type": "code",
   "execution_count": 43,
   "id": "770ebc03-f605-4cfc-9644-8b04118231fc",
   "metadata": {},
   "outputs": [
    {
     "data": {
      "image/png": "[encoded data removed]",
      "text/plain": [
       "<Figure size 800x400 with 1 Axes>"
      ]
     },
     "metadata": {},
     "output_type": "display_data"
    }
   ],
   "source": [
    "age = df['Age']\n",
    "plt.figure(figsize=(8, 4))\n",
    "plt.xlabel(\"Age\")\n",
    "plt.ylabel(\"Total number of people\")\n",
    "plt.title(\"Depression People Count\")\n",
    "plt.hist(age)\n",
    "plt.show()"
   ]
  },
  {
   "cell_type": "markdown",
   "id": "8e253a31-5f87-49f7-bd91-4b714c817f9a",
   "metadata": {},
   "source": [
    "### Interpretation: The dataset shows that individuals aged 50 to 55 experience the highest prevalence of depression. This age group may require focused attention for mental health interventions."
   ]
  },
  {
   "cell_type": "markdown",
   "id": "b6f484f7-1e50-4fc0-9896-96c40effac13",
   "metadata": {},
   "source": [
    "### Heatmap"
   ]
  },
  {
   "cell_type": "code",
   "execution_count": 44,
   "id": "a6b1d633-bf96-4153-ab4f-2ac25cd5c81b",
   "metadata": {},
   "outputs": [
    {
     "data": {
      "image/png": "[encoded data removed]",
      "text/plain": [
       "<Figure size 1000x500 with 2 Axes>"
      ]
     },
     "metadata": {},
     "output_type": "display_data"
    }
   ],
   "source": [
    "numeric_df = df.select_dtypes(include=['int64', 'float64'])\n",
    "\n",
    "plt.figure(figsize=(10, 5))\n",
    "c = numeric_df.corr()\n",
    "sns.heatmap(c, cmap=\"BrBG\", annot=True)\n",
    "plt.show()"
   ]
  },
  {
   "cell_type": "markdown",
   "id": "4bc69399-704f-4c6a-b30e-bf9d8d8a3c8f",
   "metadata": {},
   "source": [
    "### Interpretation: \n",
    "\n",
    "#### Age has a moderate positive correlation (0.23) with the number of children, suggesting that older individuals in the dataset are more likely to have children.\n",
    "\n",
    "#### Income has very weak correlations with both Age (0.059) and Number of Children (0.02), indicating minimal or no relationship between these variables.\n",
    "\n",
    "#### All diagonal values are 1, as a variable is perfectly correlated with itself.\n"
   ]
  },
  {
   "cell_type": "markdown",
   "id": "e0597611-999c-4853-95aa-7ac7f5d418b6",
   "metadata": {},
   "source": [
    "### Scatter Plot"
   ]
  },
  {
   "cell_type": "code",
   "execution_count": 45,
   "id": "83cf2a20-7054-402c-8f4c-d1ac7bda14f1",
   "metadata": {},
   "outputs": [
    {
     "data": {
      "image/png": "[encoded data removed]",
      "text/plain": [
       "<Figure size 800x500 with 1 Axes>"
      ]
     },
     "metadata": {},
     "output_type": "display_data"
    }
   ],
   "source": [
    "plt.figure(figsize=(8, 5))\n",
    "plt.scatter(df['Age'], df['Income'], color='red', alpha=0.5, label='Age vs Income')\n",
    "plt.title('Scatter Plot: Age vs Income')\n",
    "plt.xlabel('Age')\n",
    "plt.ylabel('Income')\n",
    "plt.grid(True)\n",
    "plt.legend()\n",
    "plt.show()"
   ]
  },
  {
   "cell_type": "markdown",
   "id": "494568c7-8d30-4a00-a123-53985332fa1f",
   "metadata": {},
   "source": [
    "### Interpretation: There is no correlation between Age and Income."
   ]
  },
  {
   "cell_type": "code",
   "execution_count": 46,
   "id": "b52ee1dd-3590-404f-8d6d-7f6f20e65409",
   "metadata": {},
   "outputs": [
    {
     "data": {
      "image/png": "[encoded data removed]",
      "text/plain": [
       "<Figure size 800x500 with 1 Axes>"
      ]
     },
     "metadata": {},
     "output_type": "display_data"
    }
   ],
   "source": [
    "plt.figure(figsize=(8, 5))\n",
    "plt.scatter(df['Age'], df['Number of Children'], color='green', alpha=0.5, label='Age vs Number of Children')\n",
    "plt.title('Scatter Plot: Age vs Number of Children')\n",
    "plt.xlabel('Age')\n",
    "plt.ylabel('Number of Children')\n",
    "plt.grid(True)\n",
    "plt.legend()\n",
    "plt.show()"
   ]
  }
 ],
 "metadata": {
  "kernelspec": {
   "display_name": "Python 3 (ipykernel)",
   "language": "python",
   "name": "python3"
  },
  "language_info": {
   "codemirror_mode": {
    "name": "ipython",
    "version": 3
   },
   "file_extension": ".py",
   "mimetype": "text/x-python",
   "name": "python",
   "nbconvert_exporter": "python",
   "pygments_lexer": "ipython3",
   "version": "3.12.7"
  }
 },
 "nbformat": 4,
 "nbformat_minor": 5
}
